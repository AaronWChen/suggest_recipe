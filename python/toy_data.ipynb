{
 "cells": [
  {
   "cell_type": "code",
   "execution_count": 1,
   "metadata": {},
   "outputs": [],
   "source": [
    "import json\n",
    "import csv\n",
    "import pandas as pd\n",
    "import numpy as np\n",
    "import nltk\n",
    "from nltk.corpus import stopwords\n",
    "from nltk import word_tokenize\n",
    "from nltk import FreqDist\n",
    "from nltk.stem.wordnet import WordNetLemmatizer\n",
    "import string\n",
    "import ast\n",
    "from gensim.utils import simple_preprocess\n"
   ]
  },
  {
   "cell_type": "code",
   "execution_count": 2,
   "metadata": {},
   "outputs": [],
   "source": [
    "# Generate toy data set to show ideal scenario\n",
    "# Realized that some dishes have to match on ingredients (like tacos)\n",
    "# and some dishes have to match on preparation style\n",
    "\n",
    "toy_data = [['tacos', \n",
    "             ['north_american', 'mexican', 'hand', 'small'],\n",
    "             ['ground_beef', 'cumin', 'chili_powder', 'onions', \n",
    "              'garlic', 'salt', 'pepper', 'flour', 'eggs'],],\n",
    "            ['gua_bao', \n",
    "             ['asian', 'eastern_asian', 'chinese', 'hand', 'small'],\n",
    "             ['pork_belly', 'ginger', 'star_anise', 'red_chili', \n",
    "              'garlic', 'brown_sugar', 'pepper', 'rice_wine', 'five_spice_powder',\n",
    "              'dark_soy_sauce', 'light_soy_sauce', 'flour', 'yeast', 'water',\n",
    "              'pickled_mustard_greens', 'coriander_leaves'],],\n",
    "            ['piadina', \n",
    "             ['european', 'southern_european', 'italian', 'hand', 'small'], \n",
    "             ['flour', 'salt', 'water', 'olive_oil', 'onion', 'cold_cuts',\n",
    "              'bell_pepper', 'pepper', 'tomatoes', 'lettuce',],]\n",
    "            ['dumplings',\n",
    "             ['asian', 'eastern_asian', 'chinese', 'filled', 'small'],\n",
    "             ['ground_pork', 'chives', 'salt', 'pepper', \n",
    "              'ginger', 'garlic', 'flour', 'eggs'],],\n",
    "            ['ravioli',\n",
    "             ['european', 'southern_european', 'italian', 'filled', 'small'],\n",
    "             ['cheese', 'salt', 'pepper', 'flour', 'eggs'],],\n",
    "            ['pierogi',\n",
    "             ['european', 'central_european', 'polish', 'filled', 'small'],\n",
    "             ['potatoes', 'onions', 'salt', 'pepper', 'flour', \n",
    "              'eggs'],],\n",
    "            ['manti',\n",
    "             ['asian', 'central_asian', 'mongolian', 'filled', 'small'], \n",
    "             ['flour', 'ground_lamb', 'eggs', 'salt', 'pepper', \n",
    "              'onion'],],\n",
    "            ['pizza', \n",
    "             ['european', 'southern_european', 'italian', 'flatbread'], \n",
    "             ['flour', 'tomatoes', 'cheese', 'yeast', 'water', \n",
    "              'oregano', 'parsley', 'garlic', 'onion', 'basil', \n",
    "              'salt', 'pepper'],],\n",
    "            ['pide', \n",
    "             ['asian', 'western_asian', 'turkish', 'flatbread'], \n",
    "             ['flour', 'salt', 'yeast', 'water', 'olive_oil', 'onion', \n",
    "              'ground_beef', 'bell_pepper', 'pepper', 'tomatoes', \n",
    "              'lemon_juice'],],\n",
    "            ['lamacun', \n",
    "             ['asian', 'western_asian', 'turkish', 'flatbread'], \n",
    "             ['flour', 'salt', 'yeast', 'water', 'olive_oil', 'onion', \n",
    "              'ground_lamb', 'bell_pepper', 'pepper', 'tomatoes', 'parsley', \n",
    "              'lemon_juice', 'paprika'],],\n",
    "            ['flammekueche', \n",
    "             ['european', 'central_european', 'german', 'flatbread'], \n",
    "             ['flour', 'salt', 'yeast', 'water', 'onion', 'creme_fraiche', \n",
    "              'lardons', 'pepper',],],\n",
    "            ['pissaladiere', \n",
    "             ['european', 'western_european', 'french', 'flatbread'], \n",
    "             ['flour', 'salt', 'yeast', 'water', 'olive_oil', 'onion', \n",
    "              'olives', 'garlic', 'pepper', 'anchovies',],]\n",
    "           ]"
   ]
  },
  {
   "cell_type": "code",
   "execution_count": null,
   "metadata": {},
   "outputs": [],
   "source": [
    "columns = ['dish_name', 'style_tags', 'ingredients']"
   ]
  },
  {
   "cell_type": "code",
   "execution_count": 1,
   "metadata": {},
   "outputs": [],
   "source": [
    "test_dict = {'test': ['test1', 'test2', 'test3']}"
   ]
  },
  {
   "cell_type": "code",
   "execution_count": 7,
   "metadata": {},
   "outputs": [],
   "source": [
    "def key_name_getter(q_s):\n",
    "    for key, val in test_dict.items():\n",
    "        if q_s in val:\n",
    "            print(key)"
   ]
  },
  {
   "cell_type": "code",
   "execution_count": 8,
   "metadata": {},
   "outputs": [],
   "source": [
    "key_name_getter(\"no_test\")"
   ]
  },
  {
   "cell_type": "code",
   "execution_count": 9,
   "metadata": {},
   "outputs": [
    {
     "name": "stdout",
     "output_type": "stream",
     "text": [
      "test\n"
     ]
    }
   ],
   "source": [
    "key_name_getter(\"test2\")"
   ]
  },
  {
   "cell_type": "code",
   "execution_count": null,
   "metadata": {},
   "outputs": [],
   "source": []
  }
 ],
 "metadata": {
  "kernelspec": {
   "display_name": "Python [conda env:learn-env] *",
   "language": "python",
   "name": "conda-env-learn-env-py"
  },
  "language_info": {
   "codemirror_mode": {
    "name": "ipython",
    "version": 3
   },
   "file_extension": ".py",
   "mimetype": "text/x-python",
   "name": "python",
   "nbconvert_exporter": "python",
   "pygments_lexer": "ipython3",
   "version": "3.6.6"
  }
 },
 "nbformat": 4,
 "nbformat_minor": 2
}

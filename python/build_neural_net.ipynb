{
 "cells": [
  {
   "cell_type": "markdown",
   "metadata": {},
   "source": [
    "# SMOTE data"
   ]
  },
  {
   "cell_type": "code",
   "execution_count": null,
   "metadata": {},
   "outputs": [],
   "source": [
    "sm = SMOTE(random_state=42)"
   ]
  },
  {
   "cell_type": "code",
   "execution_count": null,
   "metadata": {},
   "outputs": [],
   "source": [
    "X_res, y_res = sm.fit_resample(combo.drop(['imputed_label'], axis=1), training_labels)"
   ]
  },
  {
   "cell_type": "markdown",
   "metadata": {},
   "source": [
    "# Initialize arguments for Neural Net"
   ]
  },
  {
   "cell_type": "code",
   "execution_count": null,
   "metadata": {},
   "outputs": [],
   "source": [
    "to_nn = combo.drop(['imputed_label'], axis=1)"
   ]
  },
  {
   "cell_type": "code",
   "execution_count": null,
   "metadata": {},
   "outputs": [],
   "source": [
    "embedding_size = 100\n",
    "epochs_desired = 20\n",
    "learning_rate = 0.025\n",
    "regularization = 0.01\n",
    "vocabulary_size = len(tfidf.get_feature_names())\n",
    "algo_optimizer = 'adam'"
   ]
  },
  {
   "cell_type": "code",
   "execution_count": null,
   "metadata": {},
   "outputs": [],
   "source": [
    "model = keras.Sequential([\n",
    "                        keras.layers.Embedding(input_dim=vocabulary_size, \n",
    "                                               output_dim=embedding_size,\n",
    "                                               embeddings_initializer='normal'\n",
    "                                              ),\n",
    "                        keras.layers.GlobalMaxPooling1D(),\n",
    "                        keras.layers.Dense(200, activation='relu'),\n",
    "                        keras.layers.Dropout(0.2),\n",
    "                        keras.layers.Dense(150, activation='relu'),\n",
    "                        keras.layers.Dropout(0.2),\n",
    "                        keras.layers.Dense(100, activation='relu'),\n",
    "                        keras.layers.Dropout(0.2),\n",
    "                        keras.layers.Dense(len(lab_enc.classes_), activation='softmax')\n",
    "                      ])"
   ]
  },
  {
   "cell_type": "code",
   "execution_count": null,
   "metadata": {},
   "outputs": [],
   "source": [
    "model.compile(optimizer=keras.optimizers.Adam(learning_rate, \n",
    "                                                  beta_1=0.9, \n",
    "                                                  beta_2=0.999, \n",
    "                                                  epsilon=1e-6), \n",
    "                  loss='categorical_crossentropy', \n",
    "                  metrics=['accuracy'])"
   ]
  },
  {
   "cell_type": "code",
   "execution_count": null,
   "metadata": {},
   "outputs": [],
   "source": [
    "model.fit(X_res, y_res, epochs=epochs_desired)"
   ]
  },
  {
   "cell_type": "markdown",
   "metadata": {},
   "source": [
    "# Use reduced dimensionality (50)"
   ]
  },
  {
   "cell_type": "code",
   "execution_count": null,
   "metadata": {},
   "outputs": [],
   "source": [
    "tsvd1 = TruncatedSVD(n_components=50, random_state=20)"
   ]
  },
  {
   "cell_type": "code",
   "execution_count": null,
   "metadata": {},
   "outputs": [],
   "source": [
    "tsvd1.fit(to_nn)"
   ]
  },
  {
   "cell_type": "code",
   "execution_count": null,
   "metadata": {},
   "outputs": [],
   "source": [
    "tsvd1_ingreds = tsvd1.transform(to_nn)\n",
    "tsvd1_ingreds.shape"
   ]
  },
  {
   "cell_type": "code",
   "execution_count": null,
   "metadata": {},
   "outputs": [],
   "source": [
    "X_res2, y_res2 = sm.fit_resample(tsvd1_ingreds, training_labels)"
   ]
  },
  {
   "cell_type": "code",
   "execution_count": null,
   "metadata": {},
   "outputs": [],
   "source": [
    "model2 = keras.Sequential([\n",
    "                        keras.layers.Embedding(input_dim=tsvd1_ingreds.shape[1], \n",
    "                                               output_dim=30,\n",
    "                                               embeddings_initializer='normal'\n",
    "                                              ),\n",
    "                        keras.layers.GlobalMaxPooling1D(),\n",
    "                        keras.layers.Dense(60, activation='relu'),\n",
    "                        keras.layers.Dropout(0.2),\n",
    "                        keras.layers.Dense(len(lab_enc.classes_), activation='softmax')\n",
    "                      ])"
   ]
  },
  {
   "cell_type": "code",
   "execution_count": null,
   "metadata": {},
   "outputs": [],
   "source": [
    "model2.compile(optimizer=keras.optimizers.Adam(learning_rate, \n",
    "                                                  beta_1=0.9, \n",
    "                                                  beta_2=0.999, \n",
    "                                                  epsilon=1e-6), \n",
    "                  loss='categorical_crossentropy', \n",
    "                  metrics=['accuracy'])"
   ]
  },
  {
   "cell_type": "code",
   "execution_count": null,
   "metadata": {},
   "outputs": [],
   "source": [
    "model2.fit(X_res2, y_res2, epochs=epochs_desired)"
   ]
  },
  {
   "cell_type": "markdown",
   "metadata": {},
   "source": [
    "# Create target labels"
   ]
  },
  {
   "cell_type": "code",
   "execution_count": null,
   "metadata": {},
   "outputs": [],
   "source": [
    "lab_enc = LabelBinarizer()"
   ]
  },
  {
   "cell_type": "code",
   "execution_count": null,
   "metadata": {},
   "outputs": [],
   "source": [
    "training_labels = lab_enc.fit_transform(combo['imputed_label'])"
   ]
  },
  {
   "cell_type": "code",
   "execution_count": null,
   "metadata": {},
   "outputs": [],
   "source": [
    "lab_enc.classes_"
   ]
  },
  {
   "cell_type": "code",
   "execution_count": null,
   "metadata": {},
   "outputs": [],
   "source": [
    "len(lab_enc.classes_)"
   ]
  },
  {
   "cell_type": "code",
   "execution_count": null,
   "metadata": {},
   "outputs": [],
   "source": [
    "label_index = [np.argmax(label) for label in training_labels]\n",
    "label_index"
   ]
  },
  {
   "cell_type": "code",
   "execution_count": null,
   "metadata": {},
   "outputs": [],
   "source": [
    "len(label_index)"
   ]
  },
  {
   "cell_type": "markdown",
   "metadata": {},
   "source": [
    "# Reduce dimensionality (30)"
   ]
  },
  {
   "cell_type": "code",
   "execution_count": null,
   "metadata": {},
   "outputs": [],
   "source": [
    "tsvd2 = TruncatedSVD(n_components=30, random_state=20)"
   ]
  },
  {
   "cell_type": "code",
   "execution_count": null,
   "metadata": {},
   "outputs": [],
   "source": [
    "tsvd2.fit(combo.drop(['imputed_label'], axis=1))\n",
    "tsvd2_ingreds = tsvd2.transform(combo.drop(['imputed_label'], axis=1))"
   ]
  },
  {
   "cell_type": "code",
   "execution_count": null,
   "metadata": {},
   "outputs": [],
   "source": [
    "tsvd2_ingreds.shape[1]"
   ]
  },
  {
   "cell_type": "code",
   "execution_count": null,
   "metadata": {},
   "outputs": [],
   "source": []
  },
  {
   "cell_type": "code",
   "execution_count": null,
   "metadata": {},
   "outputs": [],
   "source": [
    "model3 = keras.Sequential([\n",
    "                        keras.layers.Embedding(input_dim=tsvd2_ingreds.shape[1], \n",
    "                                               output_dim=tsvd2_ingreds.shape[1],\n",
    "                                               embeddings_initializer='normal'\n",
    "                                              ),\n",
    "                        keras.layers.GlobalMaxPooling1D(),\n",
    "                        keras.layers.Dense(60, activation='relu'),\n",
    "                        keras.layers.Dense(60, activation='relu'),\n",
    "                        keras.layers.Dense(60, activation='relu'),\n",
    "                        keras.layers.Dense(60, activation='relu'),\n",
    "                        keras.layers.Dense(len(lab_enc.classes_), activation='softmax')\n",
    "                      ])"
   ]
  },
  {
   "cell_type": "code",
   "execution_count": null,
   "metadata": {},
   "outputs": [],
   "source": [
    "model3.compile(optimizer=keras.optimizers.Adam(learning_rate, \n",
    "                                                  beta_1=0.9, \n",
    "                                                  beta_2=0.999, \n",
    "                                                  epsilon=1e-6), \n",
    "                  loss='categorical_crossentropy', \n",
    "                  metrics=['accuracy'])"
   ]
  },
  {
   "cell_type": "code",
   "execution_count": null,
   "metadata": {},
   "outputs": [],
   "source": [
    "X_res2a, y_res2a = sm.fit_resample(tsvd2_ingreds, training_labels)"
   ]
  },
  {
   "cell_type": "code",
   "execution_count": null,
   "metadata": {},
   "outputs": [],
   "source": [
    "model3.fit(X_res2a, y_res2a, epochs=epochs_desired, shuffle=True)"
   ]
  },
  {
   "cell_type": "code",
   "execution_count": null,
   "metadata": {},
   "outputs": [],
   "source": [
    "lab_enc.classes_[2]"
   ]
  },
  {
   "cell_type": "code",
   "execution_count": null,
   "metadata": {},
   "outputs": [],
   "source": [
    "smoted_labels = [lab_enc.classes_[np.argmax(recipe)] for recipe in y_res2a]"
   ]
  },
  {
   "cell_type": "code",
   "execution_count": null,
   "metadata": {},
   "outputs": [],
   "source": [
    "test3=model3.predict(X_res2a)"
   ]
  },
  {
   "cell_type": "code",
   "execution_count": null,
   "metadata": {},
   "outputs": [],
   "source": [
    "test3.shape"
   ]
  },
  {
   "cell_type": "code",
   "execution_count": null,
   "metadata": {},
   "outputs": [],
   "source": [
    "[test3[0] == row for row in test3]"
   ]
  },
  {
   "cell_type": "code",
   "execution_count": null,
   "metadata": {},
   "outputs": [],
   "source": [
    "np.argmax(test3)"
   ]
  },
  {
   "cell_type": "markdown",
   "metadata": {},
   "source": [
    "# Try Decision Tree instead of Neural Net"
   ]
  },
  {
   "cell_type": "code",
   "execution_count": null,
   "metadata": {},
   "outputs": [],
   "source": [
    "dtc = DecisionTreeClassifier(max_depth=30,random_state=20)"
   ]
  },
  {
   "cell_type": "code",
   "execution_count": null,
   "metadata": {},
   "outputs": [],
   "source": [
    "X_res4, y_res4 = sm.fit_resample(combo.drop(['imputed_label'], axis=1), combo['imputed_label'])   "
   ]
  },
  {
   "cell_type": "code",
   "execution_count": null,
   "metadata": {},
   "outputs": [],
   "source": [
    "dtc = dtc.fit(X_res4, y_res4)"
   ]
  },
  {
   "cell_type": "code",
   "execution_count": null,
   "metadata": {},
   "outputs": [],
   "source": [
    "y_res4_pred = dtc.predict(X_res4)"
   ]
  },
  {
   "cell_type": "code",
   "execution_count": null,
   "metadata": {},
   "outputs": [],
   "source": [
    "print(\"Accuracy:\",sklearn.metrics.accuracy_score(y_res4, y_res4_pred))"
   ]
  },
  {
   "cell_type": "code",
   "execution_count": null,
   "metadata": {},
   "outputs": [],
   "source": [
    "print(sklearn.metrics.confusion_matrix(y_res4, y_res4_pred))"
   ]
  },
  {
   "cell_type": "code",
   "execution_count": null,
   "metadata": {},
   "outputs": [],
   "source": [
    "print(sklearn.metrics.classification_report(y_res4, y_res4_pred))"
   ]
  },
  {
   "cell_type": "code",
   "execution_count": null,
   "metadata": {},
   "outputs": [],
   "source": [
    "test_labeled_cuisine_df['imputed_label']"
   ]
  },
  {
   "cell_type": "code",
   "execution_count": null,
   "metadata": {},
   "outputs": [],
   "source": [
    "test_nlpskl"
   ]
  },
  {
   "cell_type": "code",
   "execution_count": null,
   "metadata": {},
   "outputs": [],
   "source": [
    "test_pred = dtc.predict(test_nlpskl)"
   ]
  },
  {
   "cell_type": "code",
   "execution_count": null,
   "metadata": {},
   "outputs": [],
   "source": [
    "print(\"Accuracy:\",sklearn.metrics.accuracy_score(test_labeled_cuisine_df['imputed_label'], \n",
    "                                                 test_pred))\n",
    "print(sklearn.metrics.confusion_matrix(test_labeled_cuisine_df['imputed_label'], \n",
    "                                                 test_pred))\n",
    "print(sklearn.metrics.classification_report(test_labeled_cuisine_df['imputed_label'], \n",
    "                                                 test_pred))"
   ]
  },
  {
   "cell_type": "markdown",
   "metadata": {},
   "source": [
    "---"
   ]
  },
  {
   "cell_type": "code",
   "execution_count": null,
   "metadata": {},
   "outputs": [],
   "source": [
    "dtc2 = DecisionTreeClassifier(max_depth=200,random_state=20)\n",
    "X_res5 = combo.drop(['imputed_label'], axis=1)\n",
    "y_res5 = combo['imputed_label']\n",
    "dtc2 = dtc2.fit(X_res5, y_res5)\n",
    "y_res5_pred = dtc.predict(X_res5)\n",
    "print(\"Accuracy:\",sklearn.metrics.accuracy_score(y_res5, y_res5_pred))\n",
    "print(sklearn.metrics.confusion_matrix(y_res5, y_res5_pred))\n",
    "print(sklearn.metrics.classification_report(y_res5, y_res5_pred))"
   ]
  },
  {
   "cell_type": "code",
   "execution_count": null,
   "metadata": {},
   "outputs": [],
   "source": [
    "test_pred2 = dtc2.predict(test_nlpskl)\n",
    "print(\"Accuracy:\",sklearn.metrics.accuracy_score(test_labeled_cuisine_df['imputed_label'], \n",
    "                                                 test_pred2))\n",
    "print(sklearn.metrics.confusion_matrix(test_labeled_cuisine_df['imputed_label'], \n",
    "                                                 test_pred2))\n",
    "print(sklearn.metrics.classification_report(test_labeled_cuisine_df['imputed_label'], \n",
    "                                                 test_pred2))"
   ]
  },
  {
   "cell_type": "code",
   "execution_count": null,
   "metadata": {},
   "outputs": [],
   "source": []
  },
  {
   "cell_type": "code",
   "execution_count": null,
   "metadata": {},
   "outputs": [],
   "source": []
  },
  {
   "cell_type": "code",
   "execution_count": null,
   "metadata": {},
   "outputs": [],
   "source": []
  },
  {
   "cell_type": "code",
   "execution_count": null,
   "metadata": {},
   "outputs": [],
   "source": []
  }
 ],
 "metadata": {
  "kernelspec": {
   "display_name": "Python 3.7 (capstone)",
   "language": "python",
   "name": "capstone"
  },
  "language_info": {
   "codemirror_mode": {
    "name": "ipython",
    "version": 3
   },
   "file_extension": ".py",
   "mimetype": "text/x-python",
   "name": "python",
   "nbconvert_exporter": "python",
   "pygments_lexer": "ipython3",
   "version": "3.7.4"
  }
 },
 "nbformat": 4,
 "nbformat_minor": 2
}

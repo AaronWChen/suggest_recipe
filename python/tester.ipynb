{
 "cells": [
  {
   "cell_type": "code",
   "execution_count": 4,
   "metadata": {},
   "outputs": [
    {
     "name": "stdout",
     "output_type": "stream",
     "text": [
      "The autoreload extension is already loaded. To reload it, use:\n",
      "  %reload_ext autoreload\n"
     ]
    }
   ],
   "source": [
    "%load_ext autoreload\n",
    "%autoreload 2"
   ]
  },
  {
   "cell_type": "code",
   "execution_count": 7,
   "metadata": {},
   "outputs": [],
   "source": [
    "from dish_predictor import find_similar_dishes"
   ]
  },
  {
   "cell_type": "code",
   "execution_count": 9,
   "metadata": {},
   "outputs": [
    {
     "name": "stderr",
     "output_type": "stream",
     "text": [
      "//anaconda3/envs/capstone/lib/python3.7/site-packages/sklearn/feature_extraction/text.py:300: UserWarning: Your stop_words may be inconsistent with your preprocessing. Tokenizing the stop words generated tokens ['Frank', 'alternatives', 'annie', 'balance', 'band', 'barrel', 'bayou', 'beam', 'beard', 'bell', 'betty', 'bird', 'blast', 'bob', 'bone', 'breyers', 'calore', 'carb', 'card', 'change', 'circle', 'clove', 'coffee', 'coil', 'country', 'cow', 'crack', 'cracker', 'crocker', 'crystal', 'dean', 'degree', 'deluxe', 'direction', 'doe', 'drip', 'duncan', 'earth', 'eggland', 'ener', 'envelope', 'eye', 'fantastic', 'fat', 'feather', 'flake', 'foot', 'fourth', 'fragment', 'frank', 'fry', 'fusion', 'genovese', 'germain', 'giada', 'gold', 'grands', 'granule', 'hamburger', 'heart', 'helper', 'hidden', 'hines', 'hodgson', 'hunt', 'instruction', 'interval', 'jim', 'jimmy', 'kellogg', 'lagrille', 'lakes', 'land', 'laughing', 'laurentiis', 'lawry', 'le', 'leaf', 'lipton', 'litre', 'maid', 'malt', 'mate', 'mayer', 'meal', 'medal', 'medallion', 'member', 'mince', 'mitt', 'monte', 'mori', 'mr', 'nest', 'nu', 'oscar', 'ox', 'paso', 'pasta', 'patty', 'petal', 'preserve', 'ranch', 'rasher', 'result', 'rice', 'ro', 'rom', 'roni', 'scrap', 'secrets', 'semicircle', 'shard', 'shear', 'sixth', 'sliver', 'smokies', 'smucker', 'snicker', 'source', 'spice', 'spot', 'state', 'strand', 'sun', 'supreme', 'tail', 'target', 'tb', 'toothpick', 'triangle', 'trimming', 'tweezer', 'valley', 'vay', 'wa', 'wedge', 'wise', 'wishbone', 'wrapper', 'yoplait', 'ziploc'] not in stop_words.\n",
      "  'stop_words.' % sorted(inconsistent))\n"
     ]
    },
    {
     "data": {
      "text/plain": [
       "'<table border=\"1\" class=\"dataframe\">\\n  <thead>\\n    <tr style=\"text-align: right;\">\\n      <th></th>\\n      <th>title</th>\\n      <th>title</th>\\n      <th>url</th>\\n      <th>filename</th>\\n      <th>imputed_label</th>\\n      <th>ingredients</th>\\n      <th>cosine_similarity</th>\\n    </tr>\\n  </thead>\\n  <tbody>\\n    <tr>\\n      <th>21829</th>\\n      <td>Sausage, Cheese and Basil Lasagna</td>\\n      <td>Sausage, Cheese and Basil Lasagna</td>\\n      <td>/recipes/food/views/sausage-cheese-and-basil-lasagna-103005</td>\\n      <td>103005.jpg</td>\\n      <td>Italian</td>\\n      <td>[2 tablespoons olive oil, 1 pound spicy Italian sausages, casings removed, 1 cup chopped onion, 3 large garlic cloves, chopped, 2 teaspoons dried oregano, 1/4 teaspoon dried crushed red pepper, 1 28-ounce can crushed tomatoes with added puree, , 1 14 1/2-ounce can diced tomatoes with green pepper and onion (do not drain), , , 1 1/2 cups (packed) fresh basil leaves, 1 15-ounce container plus 1 cup part-skim ricotta cheese, , 1 1/2 cups (packed) grated mozzarella cheese (about 6 ounces), 3/4 cup grated Parmesan cheese (about 2 ounces), 1 large egg, 1/2 teaspoon salt, 1/4 teaspoon ground black pepper, 12 no-boil lasagna noodles from one 8-ounce package, 3 cups (packed) grated mozzarella cheese (about 12 ounces), 1 cup grated Parmesan cheese (about 3 ounces), Nonstick olive oil spray]</td>\\n      <td>0.437158</td>\\n    </tr>\\n    <tr>\\n      <th>9458</th>\\n      <td>Italian Sausage Meatball Heroes</td>\\n      <td>Italian Sausage Meatball Heroes</td>\\n      <td>/recipes/food/views/italian-sausage-meatball-heroes-238290</td>\\n      <td>238290.jpg</td>\\n      <td>Italian</td>\\n      <td>[1 pound spicy or sweet Italian sausages, casings removed, 1 (23- to 24-ounce) container purchased fresh marinara sauce, divided, 1/2 cup freshly grated Parmesan cheese (about 1 1/2 ounces), 1/3 cup chopped fresh Italian parsley, divided, 1/3 cup chopped fresh basil, divided, 4 (5- to 6-inch-long) pieces French baguette, split horizontally, 1 cup (packed) coarsely grated whole-milk mozzarella cheese]</td>\\n      <td>0.427377</td>\\n    </tr>\\n    <tr>\\n      <th>18123</th>\\n      <td>Rigatoni with Cheese and Italian Sausage</td>\\n      <td>Rigatoni with Cheese and Italian Sausage</td>\\n      <td>/recipes/food/views/rigatoni-with-cheese-and-italian-sausage-230605</td>\\n      <td>230605.jpg</td>\\n      <td>Italian</td>\\n      <td>[1/2 pound rigatoni, 1/4 pound spicy Italian sausage, casing removed, 2 garlic cloves, thinly sliced, 1 1/2 cups prepared marinara sauce, 1/2 teaspoon dried crushed red pepper, 1/4 cup grated mozzarella cheese, 2 tablespoons grated Parmesan cheese, 1 teaspoon chopped fresh Italian parsley, Extra-virgin olive oil]</td>\\n      <td>0.409728</td>\\n    </tr>\\n    <tr>\\n      <th>16613</th>\\n      <td>Oven-Dried Tomato Tart with Goat Cheese and Black Olives</td>\\n      <td>Oven-Dried Tomato Tart with Goat Cheese and Black Olives</td>\\n      <td>/recipes/food/views/oven-dried-tomato-tart-with-goat-cheese-and-black-olives-232540</td>\\n      <td>232540.jpg</td>\\n      <td>American</td>\\n      <td>[5 tablespoons extra-virgin olive oil, divided, 6 medium tomatoes or large romas, cored, halved crosswise, seeded, 2 small garlic cloves, thinly slivered, 2 tablespoons minced fresh thyme, divided, 1 sheet frozen puff pastry (half of 17.3-ounce package), thawed, 1 cup coarsely grated whole-milk mozzarella cheese, 1/2 cup soft fresh goat cheese (about 4 ounces), 2 large eggs, 1/4 cup whipping cream, 1/3 cup oil-cured black olives, pitted, 2 tablespoons freshly grated Parmesan cheese]</td>\\n      <td>0.402955</td>\\n    </tr>\\n    <tr>\\n      <th>3535</th>\\n      <td>Noodle-less Zucchini Lasagna</td>\\n      <td>Noodle-less Zucchini Lasagna</td>\\n      <td>/recipes/food/views/noodle-less-zucchini-lasagna-51252310</td>\\n      <td>51252310_lasagna_1x1.jpg</td>\\n      <td>Italian</td>\\n      <td>[1 pound 93% lean ground beef, 1 1/4 teaspoons kosher salt, 1 teaspoon olive oil, 1/2 large onion, chopped, 3 garlic cloves, minced, 1 (28-ounce) can crushed tomatoes, 2 tablespoons chopped fresh basil, Freshly ground black pepper, 3 medium zucchini, Cooking spray or oil mister, 1 1/2 cups part-skim ricotta cheese, 1/4 cup grated Parmigiano-Reggiano cheese, 1 large egg, 4 cups shredded part-skim mozzarella cheese (16 ounces)]</td>\\n      <td>0.395807</td>\\n    </tr>\\n  </tbody>\\n</table>'"
      ]
     },
     "execution_count": 9,
     "metadata": {},
     "output_type": "execute_result"
    }
   ],
   "source": [
    "find_similar_dishes(\"bagel\", \"Kosher\")"
   ]
  },
  {
   "cell_type": "code",
   "execution_count": null,
   "metadata": {},
   "outputs": [],
   "source": []
  }
 ],
 "metadata": {
  "kernelspec": {
   "display_name": "Python 3.7 (capstone)",
   "language": "python",
   "name": "capstone"
  },
  "language_info": {
   "codemirror_mode": {
    "name": "ipython",
    "version": 3
   },
   "file_extension": ".py",
   "mimetype": "text/x-python",
   "name": "python",
   "nbconvert_exporter": "python",
   "pygments_lexer": "ipython3",
   "version": "3.7.4"
  }
 },
 "nbformat": 4,
 "nbformat_minor": 2
}

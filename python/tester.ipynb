{
 "cells": [
  {
   "cell_type": "code",
   "execution_count": 1,
   "metadata": {},
   "outputs": [],
   "source": [
    "from dish_predictor import find_similar_dishes"
   ]
  },
  {
   "cell_type": "code",
   "execution_count": 2,
   "metadata": {},
   "outputs": [
    {
     "name": "stderr",
     "output_type": "stream",
     "text": [
      "//anaconda3/envs/capstone/lib/python3.7/site-packages/sklearn/feature_extraction/text.py:300: UserWarning: Your stop_words may be inconsistent with your preprocessing. Tokenizing the stop words generated tokens ['Frank', 'alternatives', 'annie', 'balance', 'band', 'barrel', 'bayou', 'beam', 'beard', 'bell', 'betty', 'bird', 'blast', 'bob', 'bone', 'breyers', 'calore', 'carb', 'card', 'change', 'circle', 'clove', 'coffee', 'coil', 'country', 'cow', 'crack', 'cracker', 'crocker', 'crystal', 'dean', 'degree', 'deluxe', 'direction', 'doe', 'drip', 'duncan', 'earth', 'eggland', 'ener', 'envelope', 'eye', 'fantastic', 'fat', 'feather', 'flake', 'foot', 'fourth', 'fragment', 'frank', 'fry', 'fusion', 'genovese', 'germain', 'giada', 'gold', 'grands', 'granule', 'hamburger', 'heart', 'helper', 'hidden', 'hines', 'hodgson', 'hunt', 'instruction', 'interval', 'jim', 'jimmy', 'kellogg', 'lagrille', 'lakes', 'land', 'laughing', 'laurentiis', 'lawry', 'le', 'leaf', 'lipton', 'litre', 'maid', 'malt', 'mate', 'mayer', 'meal', 'medal', 'medallion', 'member', 'mince', 'mitt', 'monte', 'mori', 'mr', 'nest', 'nu', 'oscar', 'ox', 'paso', 'pasta', 'patty', 'petal', 'preserve', 'ranch', 'rasher', 'result', 'rice', 'ro', 'rom', 'roni', 'scrap', 'secrets', 'semicircle', 'shard', 'shear', 'sixth', 'sliver', 'smokies', 'smucker', 'snicker', 'source', 'spice', 'spot', 'state', 'strand', 'sun', 'supreme', 'tail', 'target', 'tb', 'toothpick', 'triangle', 'trimming', 'tweezer', 'valley', 'vay', 'wa', 'wedge', 'wise', 'wishbone', 'wrapper', 'yoplait', 'ziploc'] not in stop_words.\n",
      "  'stop_words.' % sorted(inconsistent))\n"
     ]
    },
    {
     "data": {
      "text/plain": [
       "[{'title': 'Mashed Potatoes',\n",
       "  'url': '/recipes/food/views/mashed-potatoes-108747',\n",
       "  'filename': 'EP_12162015_placeholders_bright.jpg',\n",
       "  'imputed_label': 'American',\n",
       "  'ingredients': ['4 pounds large boiling potatoes such as Yukon Gold or russet (baking) potatoes',\n",
       "   '1 1/2 cups whole milk',\n",
       "   '1 stick (1/2 cup) unsalted butter, cut into tablespoon pieces and softened',\n",
       "   '1 teaspoon salt, or to taste',\n",
       "   '1/2 teaspoon black pepper'],\n",
       "  'cosine_similarity': 0.6245809604332663,\n",
       "  'filename_display': 'photos/EP_12162015_placeholders_bright.jpg'},\n",
       " {'title': 'Yukon Gold and Sweet Potato Gratin',\n",
       "  'url': '/recipes/food/views/yukon-gold-and-sweet-potato-gratin-233169',\n",
       "  'filename': '233169.jpg',\n",
       "  'imputed_label': 'American',\n",
       "  'ingredients': ['6 tablespoons (3/4 stick) butter, room temperature, divided',\n",
       "   '2 1/4 pounds Yukon Gold potatoes, rinsed',\n",
       "   '1 1/2 pounds red-skinned sweet potatoes (yams), peeled',\n",
       "   '2 cups whole milk',\n",
       "   '1 garlic clove, pressed',\n",
       "   '1 tablespoon kosher salt',\n",
       "   '2 teaspoons fresh thyme leaves',\n",
       "   '1 teaspoon ground black pepper',\n",
       "   '1/8 teaspoon ground nutmeg',\n",
       "   '1 cup whipping cream'],\n",
       "  'cosine_similarity': 0.619469386140392,\n",
       "  'filename_display': 'photos/233169.jpg'},\n",
       " {'title': 'Gratin of Potatoes',\n",
       "  'url': '/recipes/food/views/gratin-of-potatoes-20006',\n",
       "  'filename': 'EP_12162015_placeholders_rustic.jpg',\n",
       "  'imputed_label': 'French',\n",
       "  'ingredients': ['3-4 large potatoes, cut in thin slices',\n",
       "   '1 cup or more heavy cream',\n",
       "   '2/3 cup grated Gruyère cheese',\n",
       "   'Salt, pepper',\n",
       "   ''],\n",
       "  'cosine_similarity': 0.6074146237427245,\n",
       "  'filename_display': 'photos/EP_12162015_placeholders_rustic.jpg'},\n",
       " {'title': 'Baked Potato Wedges with Seasoned Salt',\n",
       "  'url': '/recipes/food/views/baked-potato-wedges-with-seasoned-salt-103513',\n",
       "  'filename': 'EP_12162015_placeholders_bright.jpg',\n",
       "  'imputed_label': 'American',\n",
       "  'ingredients': ['8 large russet potatoes, peeled',\n",
       "   '1/2 cup (1 stick) butter, melted',\n",
       "   '1/2 cup olive oil',\n",
       "   '2 tablespoons seasoned salt'],\n",
       "  'cosine_similarity': 0.5892537315536177,\n",
       "  'filename_display': 'photos/EP_12162015_placeholders_bright.jpg'},\n",
       " {'title': 'Olive Oil Mashed Potatoes',\n",
       "  'url': '/recipes/food/views/olive-oil-mashed-potatoes-107604',\n",
       "  'filename': 'EP_12162015_placeholders_casual.jpg',\n",
       "  'imputed_label': 'American',\n",
       "  'ingredients': ['2 lb large boiling potatoes',\n",
       "   '1 tablespoon plus 1/2 teaspoon salt',\n",
       "   '1/3 cup extra-virgin olive oil',\n",
       "   '1/4 teaspoon black pepper',\n",
       "   '2 tablespoons chopped fresh chives (optional)'],\n",
       "  'cosine_similarity': 0.5882614263887247,\n",
       "  'filename_display': 'photos/EP_12162015_placeholders_casual.jpg'}]"
      ]
     },
     "execution_count": 2,
     "metadata": {},
     "output_type": "execute_result"
    }
   ],
   "source": [
    "find_similar_dishes(\"hasselback potatoes\", \"Scandinavian\")"
   ]
  },
  {
   "cell_type": "code",
   "execution_count": null,
   "metadata": {},
   "outputs": [],
   "source": []
  }
 ],
 "metadata": {
  "kernelspec": {
   "display_name": "Python 3.7 (capstone)",
   "language": "python",
   "name": "capstone"
  },
  "language_info": {
   "codemirror_mode": {
    "name": "ipython",
    "version": 3
   },
   "file_extension": ".py",
   "mimetype": "text/x-python",
   "name": "python",
   "nbconvert_exporter": "python",
   "pygments_lexer": "ipython3",
   "version": "3.7.4"
  }
 },
 "nbformat": 4,
 "nbformat_minor": 2
}

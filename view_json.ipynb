{
 "cells": [
  {
   "cell_type": "code",
   "execution_count": 1,
   "metadata": {},
   "outputs": [],
   "source": [
    "import pandas as pd\n",
    "import json"
   ]
  },
  {
   "cell_type": "code",
   "execution_count": 2,
   "metadata": {},
   "outputs": [],
   "source": [
    "df = pd.read_json(\"write_data/test_api_hits.json\")"
   ]
  },
  {
   "cell_type": "code",
   "execution_count": 4,
   "metadata": {},
   "outputs": [
    {
     "data": {
      "text/plain": [
       "0    {'uri': 'http://www.edamam.com/ontologies/edam...\n",
       "1    {'uri': 'http://www.edamam.com/ontologies/edam...\n",
       "2    {'uri': 'http://www.edamam.com/ontologies/edam...\n",
       "3    {'uri': 'http://www.edamam.com/ontologies/edam...\n",
       "4    {'uri': 'http://www.edamam.com/ontologies/edam...\n",
       "5    {'uri': 'http://www.edamam.com/ontologies/edam...\n",
       "6    {'uri': 'http://www.edamam.com/ontologies/edam...\n",
       "7    {'uri': 'http://www.edamam.com/ontologies/edam...\n",
       "8    {'uri': 'http://www.edamam.com/ontologies/edam...\n",
       "9    {'uri': 'http://www.edamam.com/ontologies/edam...\n",
       "Name: recipe, dtype: object"
      ]
     },
     "execution_count": 4,
     "metadata": {},
     "output_type": "execute_result"
    }
   ],
   "source": [
    "df['recipe']"
   ]
  },
  {
   "cell_type": "code",
   "execution_count": 5,
   "metadata": {},
   "outputs": [],
   "source": [
    "df_recipes = pd.read_json(\"write_data/test_api_hits.json\", orient='columns')"
   ]
  },
  {
   "cell_type": "code",
   "execution_count": 6,
   "metadata": {},
   "outputs": [
    {
     "data": {
      "text/html": [
       "<div>\n",
       "<style scoped>\n",
       "    .dataframe tbody tr th:only-of-type {\n",
       "        vertical-align: middle;\n",
       "    }\n",
       "\n",
       "    .dataframe tbody tr th {\n",
       "        vertical-align: top;\n",
       "    }\n",
       "\n",
       "    .dataframe thead th {\n",
       "        text-align: right;\n",
       "    }\n",
       "</style>\n",
       "<table border=\"1\" class=\"dataframe\">\n",
       "  <thead>\n",
       "    <tr style=\"text-align: right;\">\n",
       "      <th></th>\n",
       "      <th>bookmarked</th>\n",
       "      <th>bought</th>\n",
       "      <th>recipe</th>\n",
       "    </tr>\n",
       "  </thead>\n",
       "  <tbody>\n",
       "    <tr>\n",
       "      <th>0</th>\n",
       "      <td>False</td>\n",
       "      <td>False</td>\n",
       "      <td>{'uri': 'http://www.edamam.com/ontologies/edam...</td>\n",
       "    </tr>\n",
       "    <tr>\n",
       "      <th>1</th>\n",
       "      <td>False</td>\n",
       "      <td>False</td>\n",
       "      <td>{'uri': 'http://www.edamam.com/ontologies/edam...</td>\n",
       "    </tr>\n",
       "    <tr>\n",
       "      <th>2</th>\n",
       "      <td>False</td>\n",
       "      <td>False</td>\n",
       "      <td>{'uri': 'http://www.edamam.com/ontologies/edam...</td>\n",
       "    </tr>\n",
       "    <tr>\n",
       "      <th>3</th>\n",
       "      <td>False</td>\n",
       "      <td>False</td>\n",
       "      <td>{'uri': 'http://www.edamam.com/ontologies/edam...</td>\n",
       "    </tr>\n",
       "    <tr>\n",
       "      <th>4</th>\n",
       "      <td>False</td>\n",
       "      <td>False</td>\n",
       "      <td>{'uri': 'http://www.edamam.com/ontologies/edam...</td>\n",
       "    </tr>\n",
       "    <tr>\n",
       "      <th>5</th>\n",
       "      <td>False</td>\n",
       "      <td>False</td>\n",
       "      <td>{'uri': 'http://www.edamam.com/ontologies/edam...</td>\n",
       "    </tr>\n",
       "    <tr>\n",
       "      <th>6</th>\n",
       "      <td>False</td>\n",
       "      <td>False</td>\n",
       "      <td>{'uri': 'http://www.edamam.com/ontologies/edam...</td>\n",
       "    </tr>\n",
       "    <tr>\n",
       "      <th>7</th>\n",
       "      <td>False</td>\n",
       "      <td>False</td>\n",
       "      <td>{'uri': 'http://www.edamam.com/ontologies/edam...</td>\n",
       "    </tr>\n",
       "    <tr>\n",
       "      <th>8</th>\n",
       "      <td>False</td>\n",
       "      <td>False</td>\n",
       "      <td>{'uri': 'http://www.edamam.com/ontologies/edam...</td>\n",
       "    </tr>\n",
       "    <tr>\n",
       "      <th>9</th>\n",
       "      <td>False</td>\n",
       "      <td>False</td>\n",
       "      <td>{'uri': 'http://www.edamam.com/ontologies/edam...</td>\n",
       "    </tr>\n",
       "  </tbody>\n",
       "</table>\n",
       "</div>"
      ],
      "text/plain": [
       "   bookmarked  bought                                             recipe\n",
       "0       False   False  {'uri': 'http://www.edamam.com/ontologies/edam...\n",
       "1       False   False  {'uri': 'http://www.edamam.com/ontologies/edam...\n",
       "2       False   False  {'uri': 'http://www.edamam.com/ontologies/edam...\n",
       "3       False   False  {'uri': 'http://www.edamam.com/ontologies/edam...\n",
       "4       False   False  {'uri': 'http://www.edamam.com/ontologies/edam...\n",
       "5       False   False  {'uri': 'http://www.edamam.com/ontologies/edam...\n",
       "6       False   False  {'uri': 'http://www.edamam.com/ontologies/edam...\n",
       "7       False   False  {'uri': 'http://www.edamam.com/ontologies/edam...\n",
       "8       False   False  {'uri': 'http://www.edamam.com/ontologies/edam...\n",
       "9       False   False  {'uri': 'http://www.edamam.com/ontologies/edam..."
      ]
     },
     "execution_count": 6,
     "metadata": {},
     "output_type": "execute_result"
    }
   ],
   "source": [
    "df_recipes"
   ]
  },
  {
   "cell_type": "code",
   "execution_count": null,
   "metadata": {},
   "outputs": [],
   "source": []
  }
 ],
 "metadata": {
  "kernelspec": {
   "display_name": "Python [conda env:learn-env] *",
   "language": "python",
   "name": "conda-env-learn-env-py"
  },
  "language_info": {
   "codemirror_mode": {
    "name": "ipython",
    "version": 3
   },
   "file_extension": ".py",
   "mimetype": "text/x-python",
   "name": "python",
   "nbconvert_exporter": "python",
   "pygments_lexer": "ipython3",
   "version": "3.6.6"
  }
 },
 "nbformat": 4,
 "nbformat_minor": 2
}
